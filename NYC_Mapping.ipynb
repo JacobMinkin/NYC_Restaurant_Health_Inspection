{
 "cells": [
  {
   "cell_type": "code",
   "execution_count": 1,
   "metadata": {},
   "outputs": [],
   "source": [
    "import pandas as pd\n",
    "import numpy as np\n",
    "import matplotlib.pyplot as plt\n",
    "import seaborn as sns\n",
    "import geopandas as gpd\n",
    "sns.set_style('darkgrid')\n",
    "\n",
    "%matplotlib inline"
   ]
  },
  {
   "cell_type": "code",
   "execution_count": 2,
   "metadata": {},
   "outputs": [],
   "source": [
    "df = pd.read_csv('../data/Inspection.csv')\n",
    "fp = \"../data/base_map/geo_export_68048701-5e7b-45e0-ac1c-85b45c057d6d.shp\"\n",
    "map_data = gpd.read_file(fp)\n",
    "\n",
    "no_NA = df.loc[(df.Longitude != 0) & (df.Latitude != 0)]\n",
    "gdf = gpd.GeoDataFrame(\n",
    "    no_NA, geometry=gpd.points_from_xy(no_NA.Longitude, no_NA.Latitude))  "
   ]
  },
  {
   "cell_type": "code",
   "execution_count": null,
   "metadata": {},
   "outputs": [],
   "source": [
    "fig, ax = plt.subplots(figsize=(17, 20))\n",
    "map_data.plot(ax=ax, color=\"grey\", alpha=0.4)\n",
    "gdf[gdf.CUISINE == \"Chinese\"].plot(ax=ax, markersize=2, color=\"red\", marker=\"o\")\n",
    "gdf[gdf.CUISINE == \"American\"].plot(ax=ax, markersize=2, color=\"blue\", marker=\"o\")\n",
    "gdf[gdf.CUISINE == \"Pizza\"].plot(ax=ax, markersize=2, color=\"green\", marker=\"o\")\n",
    "gdf[gdf.CUISINE == \"Coffee/Tea\"].plot(ax=ax, markersize=2, color=\"purple\", marker=\"o\")\n",
    "plt.title(\"New York City Resteraunts\")"
   ]
  }
 ],
 "metadata": {
  "kernelspec": {
   "display_name": "base",
   "language": "python",
   "name": "python3"
  },
  "language_info": {
   "codemirror_mode": {
    "name": "ipython",
    "version": 3
   },
   "file_extension": ".py",
   "mimetype": "text/x-python",
   "name": "python",
   "nbconvert_exporter": "python",
   "pygments_lexer": "ipython3",
   "version": "3.9.13 (main, Oct 13 2022, 21:23:06) [MSC v.1916 64 bit (AMD64)]"
  },
  "orig_nbformat": 4,
  "vscode": {
   "interpreter": {
    "hash": "da306ed41de57858568798344f90038b6105df6e0cee3a0131c8e8648394aefe"
   }
  }
 },
 "nbformat": 4,
 "nbformat_minor": 2
}
