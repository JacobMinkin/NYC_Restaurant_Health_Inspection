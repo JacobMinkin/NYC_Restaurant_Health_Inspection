{
 "cells": [
  {
   "attachments": {},
   "cell_type": "markdown",
   "metadata": {},
   "source": [
    "## Project 1: NYC Resteraunt Violations Cleaning Up\n",
    "### Jacob Minkin"
   ]
  },
  {
   "cell_type": "code",
   "execution_count": null,
   "metadata": {},
   "outputs": [],
   "source": [
    "import pandas as pd\n",
    "import numpy as np\n",
    "import matplotlib.pyplot as plt\n",
    "import seaborn as sns\n",
    "import geopandas as gpd\n",
    "sns.set_style('darkgrid')\n",
    "\n",
    "%matplotlib inline"
   ]
  },
  {
   "attachments": {},
   "cell_type": "markdown",
   "metadata": {},
   "source": [
    "## Set-Up"
   ]
  },
  {
   "cell_type": "code",
   "execution_count": null,
   "metadata": {},
   "outputs": [],
   "source": [
    "#Import Data\n",
    "df = pd.read_csv('../data/Inspection.csv')\n",
    "\n",
    "#Change Name of Column for easier searching\n",
    "df.rename(columns = {'VIOLATION CODE':'CODE'}, inplace = True)\n",
    "\n",
    "# Convert date into pandas date/time format\n",
    "df['date'] = pd.to_datetime(df['INSPECTION DATE'])\n",
    "\n",
    "# Create Dictionaries for Violation Codes and Resteraunt Names\n",
    "code_list = df.CODE[df.CODE.isna() == False].unique()\n",
    "violation_dicts = {}\n",
    "for name in code_list:\n",
    "    violation_dicts[name] = df.VIOLATION[df.CODE == name].unique()\n",
    "\n",
    "Name_list = df.CAMIS[df.CAMIS.isna() == False].unique()\n",
    "Name_dicts = {}\n",
    "for name in Name_list:\n",
    "    Name_dicts[name] = df.DBA[df.CAMIS == name].unique()\n",
    "\n",
    "#Choose variables for final analysis\n",
    "finalVariables = ['CAMIS','CUISINE','STREET', 'ZIPCODE', 'Community Board', 'BBL', 'BORO', 'date', 'CRITICAL FLAG']\n",
    "fdf = df[finalVariables]\n",
    "\n",
    "# df = df.drop(['Zip Codes', 'City Council Districts', 'Police Precincts', 'Location Point', 'Community Districts', \n",
    "#    'Borough Boundaries',  'GRADE DATE', 'PHONE', 'INSPECTION DATE', 'DBA', 'VIOLATION', 'RECORD DATE'], axis = 1)\n",
    "\n",
    "# List of CONVERSION to categorical functions. \n",
    "to_convert = ['ZIPCODE', 'Community Board']\n",
    "fdf[to_convert] = fdf[to_convert].astype('category')"
   ]
  },
  {
   "cell_type": "code",
   "execution_count": null,
   "metadata": {},
   "outputs": [],
   "source": [
    "finalVariables = ['CAMIS','CUISINE','STREET', 'ZIPCODE', 'BBL', 'BORO', 'date', 'CRITICAL FLAG']\n",
    "finalDataframe = df[finalVariables]"
   ]
  },
  {
   "attachments": {},
   "cell_type": "markdown",
   "metadata": {},
   "source": [
    "## Examine Missing Data"
   ]
  },
  {
   "cell_type": "code",
   "execution_count": null,
   "metadata": {},
   "outputs": [],
   "source": [
    "df.isnull().sum(axis = 0).sort_values(ascending = False)"
   ]
  },
  {
   "cell_type": "code",
   "execution_count": null,
   "metadata": {},
   "outputs": [],
   "source": [
    "gk = df.sort_values(by=['date', 'GRADE'], ascending=False).groupby(by = ['CAMIS'], sort=False).nth(0)\n",
    "gk.ACTION"
   ]
  },
  {
   "cell_type": "code",
   "execution_count": null,
   "metadata": {},
   "outputs": [],
   "source": [
    "len(df.CAMIS.unique())"
   ]
  },
  {
   "cell_type": "code",
   "execution_count": null,
   "metadata": {},
   "outputs": [],
   "source": [
    "df['RECORD DATE'].value_counts()"
   ]
  },
  {
   "cell_type": "code",
   "execution_count": null,
   "metadata": {},
   "outputs": [],
   "source": [
    "df.ACTION.value_counts()"
   ]
  },
  {
   "cell_type": "code",
   "execution_count": null,
   "metadata": {},
   "outputs": [],
   "source": [
    "mice = {}\n",
    "for k in Violations_dicts:\n",
    "    if \"04L\" in Violations_dicts[k]:\n",
    "         mice[k] = \"04L\"\n",
    "    if \"04K\" in Violations_dicts[k]:\n",
    "         mice[k] = \"04K\""
   ]
  },
  {
   "cell_type": "code",
   "execution_count": null,
   "metadata": {},
   "outputs": [],
   "source": []
  },
  {
   "attachments": {},
   "cell_type": "markdown",
   "metadata": {},
   "source": [
    "## Lets Focus on Cuisine"
   ]
  },
  {
   "cell_type": "code",
   "execution_count": null,
   "metadata": {},
   "outputs": [],
   "source": [
    "df.CUISINE.value_counts().sort_values(ascending=True).head(10)"
   ]
  },
  {
   "attachments": {},
   "cell_type": "markdown",
   "metadata": {},
   "source": [
    "## Lets Focus on Critical Flags"
   ]
  },
  {
   "cell_type": "code",
   "execution_count": null,
   "metadata": {},
   "outputs": [],
   "source": [
    "df['CRITICAL FLAG']"
   ]
  }
 ],
 "metadata": {
  "kernelspec": {
   "display_name": "base",
   "language": "python",
   "name": "python3"
  },
  "language_info": {
   "codemirror_mode": {
    "name": "ipython",
    "version": 3
   },
   "file_extension": ".py",
   "mimetype": "text/x-python",
   "name": "python",
   "nbconvert_exporter": "python",
   "pygments_lexer": "ipython3",
   "version": "3.8.3"
  },
  "orig_nbformat": 4,
  "vscode": {
   "interpreter": {
    "hash": "da306ed41de57858568798344f90038b6105df6e0cee3a0131c8e8648394aefe"
   }
  }
 },
 "nbformat": 4,
 "nbformat_minor": 2
}
