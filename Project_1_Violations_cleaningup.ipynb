{
 "cells": [
  {
   "attachments": {},
   "cell_type": "markdown",
   "metadata": {},
   "source": [
    "## Project 1: NYC Resteraunt Violations Cleaning Up\n",
    "### Jacob Minkin"
   ]
  },
  {
   "cell_type": "code",
   "execution_count": 3,
   "metadata": {},
   "outputs": [],
   "source": [
    "import pandas as pd\n",
    "import numpy as np\n",
    "import matplotlib.pyplot as plt\n",
    "import seaborn as sns\n",
    "import geopandas as gpd\n",
    "sns.set_style('darkgrid')\n",
    "\n",
    "%matplotlib inline"
   ]
  },
  {
   "attachments": {},
   "cell_type": "markdown",
   "metadata": {},
   "source": [
    "## Set-Up"
   ]
  },
  {
   "cell_type": "code",
   "execution_count": 4,
   "metadata": {},
   "outputs": [
    {
     "name": "stderr",
     "output_type": "stream",
     "text": [
      "C:\\Users\\logic_switch\\AppData\\Local\\Temp\\ipykernel_23512\\1899942372.py:30: SettingWithCopyWarning: \n",
      "A value is trying to be set on a copy of a slice from a DataFrame.\n",
      "Try using .loc[row_indexer,col_indexer] = value instead\n",
      "\n",
      "See the caveats in the documentation: https://pandas.pydata.org/pandas-docs/stable/user_guide/indexing.html#returning-a-view-versus-a-copy\n",
      "  fdf[to_convert] = fdf[to_convert].astype('category')\n"
     ]
    }
   ],
   "source": [
    "#Import Data\n",
    "df = pd.read_csv('../data/Inspection.csv')\n",
    "\n",
    "#Change Name of Column for easier searching\n",
    "df.rename(columns = {'VIOLATION CODE':'CODE'}, inplace = True)\n",
    "\n",
    "# Convert date into pandas date/time format\n",
    "df['date'] = pd.to_datetime(df['INSPECTION DATE'])\n",
    "\n",
    "# Create Dictionaries for Violation Codes and Resteraunt Names\n",
    "code_list = df.CODE[df.CODE.isna() == False].unique()\n",
    "violation_dicts = {}\n",
    "for name in code_list:\n",
    "    violation_dicts[name] = df.VIOLATION[df.CODE == name].unique()\n",
    "\n",
    "Name_list = df.CAMIS[df.CAMIS.isna() == False].unique()\n",
    "Name_dicts = {}\n",
    "for name in Name_list:\n",
    "    Name_dicts[name] = df.DBA[df.CAMIS == name].unique()\n",
    "\n",
    "#Choose variables for final analysis\n",
    "finalVariables = ['CAMIS','CUISINE','STREET', 'ZIPCODE', 'Community Board', 'BBL', 'BORO', 'date', 'CRITICAL FLAG']\n",
    "fdf = df[finalVariables]\n",
    "\n",
    "# df = df.drop(['Zip Codes', 'City Council Districts', 'Police Precincts', 'Location Point', 'Community Districts', \n",
    "#    'Borough Boundaries',  'GRADE DATE', 'PHONE', 'INSPECTION DATE', 'DBA', 'VIOLATION', 'RECORD DATE'], axis = 1)\n",
    "\n",
    "# List of CONVERSION to categorical functions. \n",
    "to_convert = ['ZIPCODE', 'Community Board']\n",
    "fdf[to_convert] = fdf[to_convert].astype('category')"
   ]
  },
  {
   "cell_type": "code",
   "execution_count": 5,
   "metadata": {},
   "outputs": [],
   "source": [
    "Variables = ['CAMIS', 'ZIPCODE', 'Community Board', 'BBL', 'BORO']\n",
    "vdf = df[finalVariables]"
   ]
  },
  {
   "cell_type": "code",
   "execution_count": 9,
   "metadata": {},
   "outputs": [
    {
     "data": {
      "text/html": [
       "<div>\n",
       "<style scoped>\n",
       "    .dataframe tbody tr th:only-of-type {\n",
       "        vertical-align: middle;\n",
       "    }\n",
       "\n",
       "    .dataframe tbody tr th {\n",
       "        vertical-align: top;\n",
       "    }\n",
       "\n",
       "    .dataframe thead th {\n",
       "        text-align: right;\n",
       "    }\n",
       "</style>\n",
       "<table border=\"1\" class=\"dataframe\">\n",
       "  <thead>\n",
       "    <tr style=\"text-align: right;\">\n",
       "      <th></th>\n",
       "      <th>CUISINE</th>\n",
       "      <th>STREET</th>\n",
       "      <th>ZIPCODE</th>\n",
       "      <th>Community Board</th>\n",
       "      <th>BBL</th>\n",
       "      <th>BORO</th>\n",
       "      <th>date</th>\n",
       "      <th>CRITICAL FLAG</th>\n",
       "    </tr>\n",
       "    <tr>\n",
       "      <th>CAMIS</th>\n",
       "      <th></th>\n",
       "      <th></th>\n",
       "      <th></th>\n",
       "      <th></th>\n",
       "      <th></th>\n",
       "      <th></th>\n",
       "      <th></th>\n",
       "      <th></th>\n",
       "    </tr>\n",
       "  </thead>\n",
       "  <tbody>\n",
       "    <tr>\n",
       "      <th>30075445</th>\n",
       "      <td>Bakery Products/Desserts</td>\n",
       "      <td>MORRIS PARK AVENUE</td>\n",
       "      <td>10462.0</td>\n",
       "      <td>211.0</td>\n",
       "      <td>2.041270e+09</td>\n",
       "      <td>Bronx</td>\n",
       "      <td>2023-01-31</td>\n",
       "      <td>Critical</td>\n",
       "    </tr>\n",
       "    <tr>\n",
       "      <th>30112340</th>\n",
       "      <td>Hamburgers</td>\n",
       "      <td>FLATBUSH AVENUE</td>\n",
       "      <td>11225.0</td>\n",
       "      <td>309.0</td>\n",
       "      <td>3.011970e+09</td>\n",
       "      <td>Brooklyn</td>\n",
       "      <td>2021-08-05</td>\n",
       "      <td>Critical</td>\n",
       "    </tr>\n",
       "    <tr>\n",
       "      <th>30191841</th>\n",
       "      <td>Irish</td>\n",
       "      <td>WEST   57 STREET</td>\n",
       "      <td>10019.0</td>\n",
       "      <td>104.0</td>\n",
       "      <td>1.010480e+09</td>\n",
       "      <td>Manhattan</td>\n",
       "      <td>2019-06-06</td>\n",
       "      <td>Not Critical</td>\n",
       "    </tr>\n",
       "    <tr>\n",
       "      <th>40356018</th>\n",
       "      <td>American</td>\n",
       "      <td>STILLWELL AVENUE</td>\n",
       "      <td>11224.0</td>\n",
       "      <td>313.0</td>\n",
       "      <td>3.069970e+09</td>\n",
       "      <td>Brooklyn</td>\n",
       "      <td>2019-11-08</td>\n",
       "      <td>Not Critical</td>\n",
       "    </tr>\n",
       "    <tr>\n",
       "      <th>40356483</th>\n",
       "      <td>Sandwiches</td>\n",
       "      <td>AVENUE U</td>\n",
       "      <td>11234.0</td>\n",
       "      <td>318.0</td>\n",
       "      <td>3.084310e+09</td>\n",
       "      <td>Brooklyn</td>\n",
       "      <td>2021-07-30</td>\n",
       "      <td>Critical</td>\n",
       "    </tr>\n",
       "    <tr>\n",
       "      <th>...</th>\n",
       "      <td>...</td>\n",
       "      <td>...</td>\n",
       "      <td>...</td>\n",
       "      <td>...</td>\n",
       "      <td>...</td>\n",
       "      <td>...</td>\n",
       "      <td>...</td>\n",
       "      <td>...</td>\n",
       "    </tr>\n",
       "    <tr>\n",
       "      <th>50132511</th>\n",
       "      <td>None</td>\n",
       "      <td>AVENUE O</td>\n",
       "      <td>11204.0</td>\n",
       "      <td>311.0</td>\n",
       "      <td>3.066020e+09</td>\n",
       "      <td>Brooklyn</td>\n",
       "      <td>1900-01-01</td>\n",
       "      <td>Not Applicable</td>\n",
       "    </tr>\n",
       "    <tr>\n",
       "      <th>50132516</th>\n",
       "      <td>None</td>\n",
       "      <td>EAST   13 STREET</td>\n",
       "      <td>10009.0</td>\n",
       "      <td>103.0</td>\n",
       "      <td>1.004400e+09</td>\n",
       "      <td>Manhattan</td>\n",
       "      <td>1900-01-01</td>\n",
       "      <td>Not Applicable</td>\n",
       "    </tr>\n",
       "    <tr>\n",
       "      <th>50132518</th>\n",
       "      <td>None</td>\n",
       "      <td>ATLANTIC AVE</td>\n",
       "      <td>11416.0</td>\n",
       "      <td>409.0</td>\n",
       "      <td>4.093800e+09</td>\n",
       "      <td>Queens</td>\n",
       "      <td>1900-01-01</td>\n",
       "      <td>Not Applicable</td>\n",
       "    </tr>\n",
       "    <tr>\n",
       "      <th>50132519</th>\n",
       "      <td>None</td>\n",
       "      <td>PENN PLZ</td>\n",
       "      <td>10001.0</td>\n",
       "      <td>105.0</td>\n",
       "      <td>1.008070e+09</td>\n",
       "      <td>Manhattan</td>\n",
       "      <td>1900-01-01</td>\n",
       "      <td>Not Applicable</td>\n",
       "    </tr>\n",
       "    <tr>\n",
       "      <th>50132520</th>\n",
       "      <td>None</td>\n",
       "      <td>EASTCHESTER ROAD</td>\n",
       "      <td>10461.0</td>\n",
       "      <td>211.0</td>\n",
       "      <td>2.040850e+09</td>\n",
       "      <td>Bronx</td>\n",
       "      <td>1900-01-01</td>\n",
       "      <td>Not Applicable</td>\n",
       "    </tr>\n",
       "  </tbody>\n",
       "</table>\n",
       "<p>28239 rows × 8 columns</p>\n",
       "</div>"
      ],
      "text/plain": [
       "                           CUISINE              STREET  ZIPCODE  \\\n",
       "CAMIS                                                             \n",
       "30075445  Bakery Products/Desserts  MORRIS PARK AVENUE  10462.0   \n",
       "30112340                Hamburgers     FLATBUSH AVENUE  11225.0   \n",
       "30191841                     Irish    WEST   57 STREET  10019.0   \n",
       "40356018                  American    STILLWELL AVENUE  11224.0   \n",
       "40356483                Sandwiches            AVENUE U  11234.0   \n",
       "...                            ...                 ...      ...   \n",
       "50132511                      None            AVENUE O  11204.0   \n",
       "50132516                      None    EAST   13 STREET  10009.0   \n",
       "50132518                      None        ATLANTIC AVE  11416.0   \n",
       "50132519                      None            PENN PLZ  10001.0   \n",
       "50132520                      None    EASTCHESTER ROAD  10461.0   \n",
       "\n",
       "          Community Board           BBL       BORO       date   CRITICAL FLAG  \n",
       "CAMIS                                                                          \n",
       "30075445            211.0  2.041270e+09      Bronx 2023-01-31        Critical  \n",
       "30112340            309.0  3.011970e+09   Brooklyn 2021-08-05        Critical  \n",
       "30191841            104.0  1.010480e+09  Manhattan 2019-06-06    Not Critical  \n",
       "40356018            313.0  3.069970e+09   Brooklyn 2019-11-08    Not Critical  \n",
       "40356483            318.0  3.084310e+09   Brooklyn 2021-07-30        Critical  \n",
       "...                   ...           ...        ...        ...             ...  \n",
       "50132511            311.0  3.066020e+09   Brooklyn 1900-01-01  Not Applicable  \n",
       "50132516            103.0  1.004400e+09  Manhattan 1900-01-01  Not Applicable  \n",
       "50132518            409.0  4.093800e+09     Queens 1900-01-01  Not Applicable  \n",
       "50132519            105.0  1.008070e+09  Manhattan 1900-01-01  Not Applicable  \n",
       "50132520            211.0  2.040850e+09      Bronx 1900-01-01  Not Applicable  \n",
       "\n",
       "[28239 rows x 8 columns]"
      ]
     },
     "execution_count": 9,
     "metadata": {},
     "output_type": "execute_result"
    }
   ],
   "source": [
    "vdf.groupby(['CAMIS']).first()"
   ]
  },
  {
   "cell_type": "code",
   "execution_count": 10,
   "metadata": {},
   "outputs": [
    {
     "data": {
      "text/plain": [
       "CUISINE            4358\n",
       "Community Board    3468\n",
       "ZIPCODE            2933\n",
       "BBL                 561\n",
       "STREET               26\n",
       "CAMIS                 0\n",
       "BORO                  0\n",
       "date                  0\n",
       "CRITICAL FLAG         0\n",
       "dtype: int64"
      ]
     },
     "execution_count": 10,
     "metadata": {},
     "output_type": "execute_result"
    }
   ],
   "source": [
    "vdf"
   ]
  },
  {
   "attachments": {},
   "cell_type": "markdown",
   "metadata": {},
   "source": [
    "## Examine Missing Data"
   ]
  },
  {
   "cell_type": "code",
   "execution_count": 45,
   "metadata": {},
   "outputs": [
    {
     "data": {
      "text/plain": [
       "GRADE               106150\n",
       "SCORE                10915\n",
       "CODE                  5681\n",
       "BIN                   4561\n",
       "INSPECTION TYPE       4358\n",
       "CUISINE               4358\n",
       "ACTION                4358\n",
       "Council District      3468\n",
       "Community Board       3468\n",
       "Census Tract          3468\n",
       "NTA                   3468\n",
       "ZIPCODE               2933\n",
       "BBL                    561\n",
       "BUILDING               340\n",
       "Latitude               298\n",
       "Longitude              298\n",
       "STREET                  26\n",
       "CAMIS                    0\n",
       "RECORD DATE              0\n",
       "BORO                     0\n",
       "CRITICAL FLAG            0\n",
       "date                     0\n",
       "dtype: int64"
      ]
     },
     "execution_count": 45,
     "metadata": {},
     "output_type": "execute_result"
    }
   ],
   "source": [
    "df.isnull().sum(axis = 0).sort_values(ascending = False)"
   ]
  },
  {
   "cell_type": "code",
   "execution_count": 52,
   "metadata": {},
   "outputs": [],
   "source": [
    "f_variables = ['CAMIS', 'CUISINE', 'BORO', 'ZIPCODE', 'NTA', 'Census Tract', 'Community Board', 'Council District']\n",
    "fdf = df[f_variables]"
   ]
  },
  {
   "cell_type": "code",
   "execution_count": 58,
   "metadata": {},
   "outputs": [
    {
     "data": {
      "text/plain": [
       "<AxesSubplot:>"
      ]
     },
     "execution_count": 58,
     "metadata": {},
     "output_type": "execute_result"
    },
    {
     "data": {
      "image/png": "[encoded data removed]",
      "text/plain": [
       "<Figure size 640x480 with 1 Axes>"
      ]
     },
     "metadata": {},
     "output_type": "display_data"
    }
   ],
   "source": [
    "fdf['Census Tract'].hist()"
   ]
  },
  {
   "cell_type": "code",
   "execution_count": 15,
   "metadata": {},
   "outputs": [
    {
     "data": {
      "text/plain": [
       "<AxesSubplot:>"
      ]
     },
     "execution_count": 15,
     "metadata": {},
     "output_type": "execute_result"
    },
    {
     "data": {
      "image/png": "[encoded data removed]",
      "text/plain": [
       "<Figure size 640x480 with 1 Axes>"
      ]
     },
     "metadata": {},
     "output_type": "display_data"
    }
   ],
   "source": [
    "df['Census Tract'].hist()"
   ]
  },
  {
   "cell_type": "code",
   "execution_count": 40,
   "metadata": {},
   "outputs": [
    {
     "data": {
      "text/plain": [
       "0         102.0\n",
       "1         301.0\n",
       "2         102.0\n",
       "3           NaN\n",
       "4         502.0\n",
       "          ...  \n",
       "209574    306.0\n",
       "209575    102.0\n",
       "209576    316.0\n",
       "209577    104.0\n",
       "209578      NaN\n",
       "Name: Community Board, Length: 209579, dtype: float64"
      ]
     },
     "execution_count": 40,
     "metadata": {},
     "output_type": "execute_result"
    }
   ],
   "source": [
    "df['Community Board']"
   ]
  },
  {
   "cell_type": "code",
   "execution_count": 39,
   "metadata": {},
   "outputs": [
    {
     "data": {
      "text/plain": [
       "Violations were cited in the following area(s).                                                                                       193989\n",
       "Establishment Closed by DOHMH. Violations were cited in the following area(s) and those requiring immediate action were addressed.      7936\n",
       "Establishment re-opened by DOHMH.                                                                                                       1985\n",
       "No violations were recorded at the time of this inspection.                                                                             1299\n",
       "Establishment re-closed by DOHMH.                                                                                                         12\n",
       "Name: ACTION, dtype: int64"
      ]
     },
     "execution_count": 39,
     "metadata": {},
     "output_type": "execute_result"
    }
   ],
   "source": [
    "df.ACTION.value_counts()"
   ]
  }
 ],
 "metadata": {
  "kernelspec": {
   "display_name": "base",
   "language": "python",
   "name": "python3"
  },
  "language_info": {
   "codemirror_mode": {
    "name": "ipython",
    "version": 3
   },
   "file_extension": ".py",
   "mimetype": "text/x-python",
   "name": "python",
   "nbconvert_exporter": "python",
   "pygments_lexer": "ipython3",
   "version": "3.9.13"
  },
  "orig_nbformat": 4,
  "vscode": {
   "interpreter": {
    "hash": "da306ed41de57858568798344f90038b6105df6e0cee3a0131c8e8648394aefe"
   }
  }
 },
 "nbformat": 4,
 "nbformat_minor": 2
}
